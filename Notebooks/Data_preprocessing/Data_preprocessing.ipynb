{
 "cells": [
  {
   "cell_type": "code",
   "execution_count": 1,
   "metadata": {},
   "outputs": [
    {
     "data": {
      "text/plain": [
       "'/rhome/f111169109/alby-the-scraper'"
      ]
     },
     "execution_count": 1,
     "metadata": {},
     "output_type": "execute_result"
    }
   ],
   "source": [
    "import os \n",
    "os.chdir('..')\n",
    "os.chdir('..')\n",
    "os.getcwd()"
   ]
  },
  {
   "cell_type": "code",
   "execution_count": 2,
   "metadata": {},
   "outputs": [],
   "source": [
    "import pandas as pd\n",
    "import numpy as np\n",
    "import bs4\n",
    "import requests"
   ]
  },
  {
   "cell_type": "markdown",
   "metadata": {},
   "source": [
    "# Data Pre-Processing"
   ]
  },
  {
   "cell_type": "markdown",
   "metadata": {},
   "source": [
    "## Pre-Processing data with pandas\n",
    "\n",
    "1. Read data\n",
    "2. Concatenate data \n",
    "3. Select dataframe base on columns\n",
    "4. Drop the row have `NaN` value\n",
    "5. Drop the row have `twitter` in URL\n",
    "6. Drop the row is not the url link\n",
    "7. Save as parquet format for reading and writing data frames efficient"
   ]
  },
  {
   "cell_type": "markdown",
   "metadata": {},
   "source": [
    "### 1 Read data "
   ]
  },
  {
   "cell_type": "code",
   "execution_count": null,
   "metadata": {},
   "outputs": [],
   "source": [
    "# df1 = pd.read_excel(\"./datasets/top_5_insurance_brands_june_news_and_twitter_only.xlsx\", sheet_name=\"State_Farm_June_Twitter_and_New\")\n",
    "# df2 = pd.read_excel(\"./datasets/top_5_insurance_brands_june_news_and_twitter_only.xlsx\", sheet_name=\"Geico_w_Gecko_June_News_and_Twi\")\n",
    "# df3 = pd.read_excel(\"./datasets/top_5_insurance_brands_june_news_and_twitter_only.xlsx\", sheet_name=\"Progressive_June_Twitter_and_Ne\")\n",
    "# df4 = pd.read_excel(\"./datasets/top_5_insurance_brands_june_news_and_twitter_only.xlsx\", sheet_name=\"Farmers_Insurance_June_News_and\")\n",
    "# df5 = pd.read_excel(\"./datasets/top_5_insurance_brands_june_news_and_twitter_only.xlsx\", sheet_name=\"Allstate_June_Twitter_and_News_\")"
   ]
  },
  {
   "cell_type": "markdown",
   "metadata": {},
   "source": [
    "### 2 Concatenate data"
   ]
  },
  {
   "cell_type": "code",
   "execution_count": null,
   "metadata": {},
   "outputs": [],
   "source": [
    "# df  = pd.concat([df1, df2, df3, df4, df5], axis=0)"
   ]
  },
  {
   "cell_type": "markdown",
   "metadata": {},
   "source": [
    "### 3. Select dataframe base on columns"
   ]
  },
  {
   "cell_type": "code",
   "execution_count": null,
   "metadata": {},
   "outputs": [],
   "source": [
    "# df = df[[\"URL\", \"Headline\", \"Opening Text\", \"Hit Sentence\", \"Source\", \"Influencer\", \"Country\", \"Language\"]]"
   ]
  },
  {
   "cell_type": "markdown",
   "metadata": {},
   "source": [
    "### 4. Drop the row have `NaN` value"
   ]
  },
  {
   "cell_type": "code",
   "execution_count": null,
   "metadata": {},
   "outputs": [],
   "source": [
    "# df.dropna(subset=[\"Opening Text\", \"Headline\", \"Hit Sentence\", \"Source\", \"Influencer\", \"Country\", \"Language\"], inplace=True)"
   ]
  },
  {
   "cell_type": "markdown",
   "metadata": {},
   "source": [
    "### 5. Drop the row have `twitter` in URL"
   ]
  },
  {
   "cell_type": "code",
   "execution_count": null,
   "metadata": {},
   "outputs": [],
   "source": [
    "# df = df[~df[\"URL\"].str.contains(\"twitter\")]"
   ]
  },
  {
   "cell_type": "markdown",
   "metadata": {},
   "source": [
    "### 6. Drop the row is not the url link"
   ]
  },
  {
   "cell_type": "code",
   "execution_count": null,
   "metadata": {},
   "outputs": [],
   "source": [
    "# df = df[df[\"URL\"].str.contains(\"https\")]"
   ]
  },
  {
   "cell_type": "markdown",
   "metadata": {},
   "source": [
    "### 7. Save as parquet format for reading and writing data frames efficient"
   ]
  },
  {
   "cell_type": "code",
   "execution_count": null,
   "metadata": {},
   "outputs": [],
   "source": [
    "# df.to_excel(\"./datasets/processed/top_5_insurance_brands_june_news_and_twitter_only_processed.xlsx\", index=False)"
   ]
  },
  {
   "cell_type": "markdown",
   "metadata": {},
   "source": [
    "## Continue processing data after `url_scraper`"
   ]
  },
  {
   "cell_type": "code",
   "execution_count": null,
   "metadata": {},
   "outputs": [],
   "source": [
    "# df1 = pd.read_parquet(\"./datasets/part0001.parquet\")\n",
    "# df2 = pd.read_parquet(\"./datasets/part0002.parquet\")\n",
    "# df3 = pd.read_parquet(\"./datasets/part0003.parquet\")\n",
    "# df4 = pd.read_parquet(\"./datasets/part0004.parquet\")\n",
    "# df  = pd.concat([df1, df2, df3, df4], axis=0)"
   ]
  },
  {
   "cell_type": "code",
   "execution_count": null,
   "metadata": {},
   "outputs": [],
   "source": [
    "# # Easy way to get filter URL \n",
    "# df = df[df[\"HTML source\"] != \"\"]"
   ]
  },
  {
   "cell_type": "code",
   "execution_count": null,
   "metadata": {},
   "outputs": [],
   "source": [
    "# df.head(100)"
   ]
  },
  {
   "cell_type": "code",
   "execution_count": null,
   "metadata": {},
   "outputs": [],
   "source": [
    "# df.shape"
   ]
  },
  {
   "cell_type": "code",
   "execution_count": null,
   "metadata": {},
   "outputs": [],
   "source": [
    "# df.to_parquet(\"./datasets/processed/dataset.parquet\", index=False)"
   ]
  },
  {
   "cell_type": "markdown",
   "metadata": {},
   "source": [
    "## Reduce data memory"
   ]
  },
  {
   "cell_type": "code",
   "execution_count": null,
   "metadata": {},
   "outputs": [],
   "source": [
    "# df = pd.read_parquet(\"./Datasets/processed/dataset.parquet\")"
   ]
  },
  {
   "cell_type": "code",
   "execution_count": null,
   "metadata": {},
   "outputs": [],
   "source": [
    "# df.head()"
   ]
  },
  {
   "cell_type": "code",
   "execution_count": null,
   "metadata": {},
   "outputs": [],
   "source": [
    "# from tqdm import tqdm\n",
    "\n",
    "# def get_texts_from_html_source(html_source_text):\n",
    "#     \"\"\"\n",
    "#     Args:\n",
    "#         html_source_text: str\n",
    "#     \"\"\"\n",
    "#     texts = []\n",
    "#     for html in tqdm(html_source_text):\n",
    "#         html = bs4.BeautifulSoup(html, \"html.parser\")\n",
    "#         text = html.get_text()\n",
    "#         texts.append(text)\n",
    "#     return texts"
   ]
  },
  {
   "cell_type": "code",
   "execution_count": null,
   "metadata": {},
   "outputs": [],
   "source": [
    "# texts = get_texts_from_html_source(df[\"HTML source\"])\n",
    "# df[\"HTML source\"] = texts"
   ]
  },
  {
   "cell_type": "code",
   "execution_count": null,
   "metadata": {},
   "outputs": [],
   "source": [
    "# df.head()"
   ]
  },
  {
   "cell_type": "code",
   "execution_count": null,
   "metadata": {},
   "outputs": [],
   "source": [
    "# df.dropna(subset=[\"HTML source\"], inplace=True)"
   ]
  },
  {
   "cell_type": "code",
   "execution_count": null,
   "metadata": {},
   "outputs": [],
   "source": [
    "# df[\"HTML source\"][1]"
   ]
  },
  {
   "cell_type": "code",
   "execution_count": null,
   "metadata": {},
   "outputs": [],
   "source": [
    "# df.to_parquet(\"./Datasets/processed/dataset_v2.parquet\", index=False)"
   ]
  },
  {
   "cell_type": "code",
   "execution_count": 19,
   "metadata": {},
   "outputs": [
    {
     "data": {
      "text/html": [
       "<div>\n",
       "<style scoped>\n",
       "    .dataframe tbody tr th:only-of-type {\n",
       "        vertical-align: middle;\n",
       "    }\n",
       "\n",
       "    .dataframe tbody tr th {\n",
       "        vertical-align: top;\n",
       "    }\n",
       "\n",
       "    .dataframe thead th {\n",
       "        text-align: right;\n",
       "    }\n",
       "</style>\n",
       "<table border=\"1\" class=\"dataframe\">\n",
       "  <thead>\n",
       "    <tr style=\"text-align: right;\">\n",
       "      <th></th>\n",
       "      <th>URL</th>\n",
       "      <th>HTML source</th>\n",
       "      <th>Headline</th>\n",
       "      <th>Opening Text</th>\n",
       "      <th>Hit Sentence</th>\n",
       "      <th>Source</th>\n",
       "      <th>Influencer</th>\n",
       "      <th>Country</th>\n",
       "      <th>Language</th>\n",
       "    </tr>\n",
       "  </thead>\n",
       "  <tbody>\n",
       "    <tr>\n",
       "      <th>0</th>\n",
       "      <td>https://www.wbko.com/2023/06/30/former-wku-lad...</td>\n",
       "      <td>Former WKU Lady Toppers star Crystal Kelly be...</td>\n",
       "      <td>Former WKU Lady Toppers star Crystal Kelly bec...</td>\n",
       "      <td>Former Kentucky Miss Basketball Crystal Kelly ...</td>\n",
       "      <td>... State Farm Coaches. She also earned Sun Be...</td>\n",
       "      <td>WBKO-TV</td>\n",
       "      <td>Kaden Gaylord-Day</td>\n",
       "      <td>United States</td>\n",
       "      <td>English</td>\n",
       "    </tr>\n",
       "    <tr>\n",
       "      <th>1</th>\n",
       "      <td>https://www.myhorrynews.com/news/myrtle-beach-...</td>\n",
       "      <td>...</td>\n",
       "      <td>Myrtle Beach Downtown Alliance proposes change...</td>\n",
       "      <td>There may be changes on Broadway Street in Myr...</td>\n",
       "      <td>... sits on the corner of 4th Avenue and Broad...</td>\n",
       "      <td>Horry Independent</td>\n",
       "      <td>Janet Morgan</td>\n",
       "      <td>United States</td>\n",
       "      <td>English</td>\n",
       "    </tr>\n",
       "    <tr>\n",
       "      <th>2</th>\n",
       "      <td>https://www.thecamarilloacorn.com/articles/fir...</td>\n",
       "      <td>Fire hardening hasn’t helped insurance ...</td>\n",
       "      <td>Fire hardening hasn’t helped insurance rates</td>\n",
       "      <td>On May 30, California Department of Insurance ...</td>\n",
       "      <td>... of Insurance Commissioner Ricardo Lara iss...</td>\n",
       "      <td>Camarillo Acorn</td>\n",
       "      <td>Victoria Talbot</td>\n",
       "      <td>United States</td>\n",
       "      <td>English</td>\n",
       "    </tr>\n",
       "    <tr>\n",
       "      <th>3</th>\n",
       "      <td>https://www.nerdwallet.com/article/insurance/a...</td>\n",
       "      <td>How Much Is Homeowners Insurance? Average ...</td>\n",
       "      <td>The Average Home Insurance Cost in the U.S. fo...</td>\n",
       "      <td>Advertiser disclosureYou’re our first priority...</td>\n",
       "      <td>... home insurance Michigan home insurance Min...</td>\n",
       "      <td>NerdWallet</td>\n",
       "      <td>Sarah Schlichter</td>\n",
       "      <td>United States</td>\n",
       "      <td>English</td>\n",
       "    </tr>\n",
       "    <tr>\n",
       "      <th>4</th>\n",
       "      <td>https://www.nerdwallet.com/article/insurance/s...</td>\n",
       "      <td>6 Best Life Insurance Companies for Senior...</td>\n",
       "      <td>7 Best Life Insurance Companies for Seniors in...</td>\n",
       "      <td>Advertiser disclosureYou’re our first priority...</td>\n",
       "      <td>... : Best life insurance companies . Best ter...</td>\n",
       "      <td>NerdWallet</td>\n",
       "      <td>Georgia Rose</td>\n",
       "      <td>United States</td>\n",
       "      <td>English</td>\n",
       "    </tr>\n",
       "  </tbody>\n",
       "</table>\n",
       "</div>"
      ],
      "text/plain": [
       "                                                 URL  \\\n",
       "0  https://www.wbko.com/2023/06/30/former-wku-lad...   \n",
       "1  https://www.myhorrynews.com/news/myrtle-beach-...   \n",
       "2  https://www.thecamarilloacorn.com/articles/fir...   \n",
       "3  https://www.nerdwallet.com/article/insurance/a...   \n",
       "4  https://www.nerdwallet.com/article/insurance/s...   \n",
       "\n",
       "                                         HTML source  \\\n",
       "0   Former WKU Lady Toppers star Crystal Kelly be...   \n",
       "1                                                ...   \n",
       "2         Fire hardening hasn’t helped insurance ...   \n",
       "3      How Much Is Homeowners Insurance? Average ...   \n",
       "4      6 Best Life Insurance Companies for Senior...   \n",
       "\n",
       "                                            Headline  \\\n",
       "0  Former WKU Lady Toppers star Crystal Kelly bec...   \n",
       "1  Myrtle Beach Downtown Alliance proposes change...   \n",
       "2       Fire hardening hasn’t helped insurance rates   \n",
       "3  The Average Home Insurance Cost in the U.S. fo...   \n",
       "4  7 Best Life Insurance Companies for Seniors in...   \n",
       "\n",
       "                                        Opening Text  \\\n",
       "0  Former Kentucky Miss Basketball Crystal Kelly ...   \n",
       "1  There may be changes on Broadway Street in Myr...   \n",
       "2  On May 30, California Department of Insurance ...   \n",
       "3  Advertiser disclosureYou’re our first priority...   \n",
       "4  Advertiser disclosureYou’re our first priority...   \n",
       "\n",
       "                                        Hit Sentence             Source  \\\n",
       "0  ... State Farm Coaches. She also earned Sun Be...            WBKO-TV   \n",
       "1  ... sits on the corner of 4th Avenue and Broad...  Horry Independent   \n",
       "2  ... of Insurance Commissioner Ricardo Lara iss...    Camarillo Acorn   \n",
       "3  ... home insurance Michigan home insurance Min...         NerdWallet   \n",
       "4  ... : Best life insurance companies . Best ter...         NerdWallet   \n",
       "\n",
       "          Influencer        Country Language  \n",
       "0  Kaden Gaylord-Day  United States  English  \n",
       "1       Janet Morgan  United States  English  \n",
       "2    Victoria Talbot  United States  English  \n",
       "3   Sarah Schlichter  United States  English  \n",
       "4       Georgia Rose  United States  English  "
      ]
     },
     "execution_count": 19,
     "metadata": {},
     "output_type": "execute_result"
    }
   ],
   "source": [
    "df = pd.read_parquet(\"./Datasets/processed/dataset_v2.parquet\")\n",
    "df.head()"
   ]
  },
  {
   "cell_type": "code",
   "execution_count": 20,
   "metadata": {},
   "outputs": [
    {
     "data": {
      "text/plain": [
       "(5551, 9)"
      ]
     },
     "execution_count": 20,
     "metadata": {},
     "output_type": "execute_result"
    }
   ],
   "source": [
    "df.shape"
   ]
  },
  {
   "cell_type": "code",
   "execution_count": 21,
   "metadata": {},
   "outputs": [],
   "source": [
    "for text in df[\"HTML source\"]:\n",
    "    if len(text) < 1000 or len(text) > 100000:\n",
    "        df.drop(df[df[\"HTML source\"] == text].index, inplace=True)"
   ]
  },
  {
   "cell_type": "code",
   "execution_count": 22,
   "metadata": {},
   "outputs": [
    {
     "data": {
      "text/plain": [
       "(5434, 9)"
      ]
     },
     "execution_count": 22,
     "metadata": {},
     "output_type": "execute_result"
    }
   ],
   "source": [
    "df.shape"
   ]
  },
  {
   "cell_type": "code",
   "execution_count": 24,
   "metadata": {},
   "outputs": [],
   "source": [
    "list_num = []\n",
    "\n",
    "for text in df[\"HTML source\"]:\n",
    "    list_num.append(len(text))"
   ]
  },
  {
   "cell_type": "code",
   "execution_count": 25,
   "metadata": {},
   "outputs": [
    {
     "data": {
      "text/plain": [
       "(1045, 98431)"
      ]
     },
     "execution_count": 25,
     "metadata": {},
     "output_type": "execute_result"
    }
   ],
   "source": [
    "min(list_num), max(list_num)"
   ]
  },
  {
   "cell_type": "code",
   "execution_count": 26,
   "metadata": {},
   "outputs": [],
   "source": [
    "df.to_parquet(\"./Datasets/processed/dataset_v4.parquet\", index=False)"
   ]
  },
  {
   "cell_type": "code",
   "execution_count": null,
   "metadata": {},
   "outputs": [],
   "source": []
  }
 ],
 "metadata": {
  "kernelspec": {
   "display_name": "web_env",
   "language": "python",
   "name": "python3"
  },
  "language_info": {
   "codemirror_mode": {
    "name": "ipython",
    "version": 3
   },
   "file_extension": ".py",
   "mimetype": "text/x-python",
   "name": "python",
   "nbconvert_exporter": "python",
   "pygments_lexer": "ipython3",
   "version": "3.8.19"
  }
 },
 "nbformat": 4,
 "nbformat_minor": 2
}
