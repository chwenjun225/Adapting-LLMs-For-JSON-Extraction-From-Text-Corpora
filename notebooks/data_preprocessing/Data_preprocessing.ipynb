{
 "cells": [
  {
   "cell_type": "code",
   "execution_count": 1,
   "metadata": {},
   "outputs": [
    {
     "data": {
      "text/plain": [
       "'/rhome/f111169109/syner-gpus'"
      ]
     },
     "execution_count": 1,
     "metadata": {},
     "output_type": "execute_result"
    }
   ],
   "source": [
    "import os \n",
    "os.chdir('..')\n",
    "os.chdir('..')\n",
    "os.getcwd()"
   ]
  },
  {
   "cell_type": "code",
   "execution_count": 2,
   "metadata": {},
   "outputs": [],
   "source": [
    "import pandas as pd\n",
    "import numpy as np\n",
    "import bs4\n",
    "import requests\n",
    "from datasets import load_dataset, Dataset, DatasetDict"
   ]
  },
  {
   "cell_type": "markdown",
   "metadata": {},
   "source": [
    "# Data Pre-Processing"
   ]
  },
  {
   "cell_type": "markdown",
   "metadata": {},
   "source": [
    "## Pre-Processing data with pandas\n",
    "\n",
    "1. Read data\n",
    "2. Concatenate data \n",
    "3. Select dataframe base on columns\n",
    "4. Drop the row have `NaN` value\n",
    "5. Drop the row have `twitter` in URL\n",
    "6. Drop the row is not the url link\n",
    "7. Save as parquet format for reading and writing data frames efficient"
   ]
  },
  {
   "cell_type": "markdown",
   "metadata": {},
   "source": [
    "### 1 Read data "
   ]
  },
  {
   "cell_type": "code",
   "execution_count": 3,
   "metadata": {},
   "outputs": [],
   "source": [
    "# df1 = pd.read_excel(\"./datasets/top_5_insurance_brands_june_news_and_twitter_only.xlsx\", sheet_name=\"State_Farm_June_Twitter_and_New\")\n",
    "# df2 = pd.read_excel(\"./datasets/top_5_insurance_brands_june_news_and_twitter_only.xlsx\", sheet_name=\"Geico_w_Gecko_June_News_and_Twi\")\n",
    "# df3 = pd.read_excel(\"./datasets/top_5_insurance_brands_june_news_and_twitter_only.xlsx\", sheet_name=\"Progressive_June_Twitter_and_Ne\")\n",
    "# df4 = pd.read_excel(\"./datasets/top_5_insurance_brands_june_news_and_twitter_only.xlsx\", sheet_name=\"Farmers_Insurance_June_News_and\")\n",
    "# df5 = pd.read_excel(\"./datasets/top_5_insurance_brands_june_news_and_twitter_only.xlsx\", sheet_name=\"Allstate_June_Twitter_and_News_\")"
   ]
  },
  {
   "cell_type": "markdown",
   "metadata": {},
   "source": [
    "### 2 Concatenate data"
   ]
  },
  {
   "cell_type": "code",
   "execution_count": 4,
   "metadata": {},
   "outputs": [],
   "source": [
    "# df  = pd.concat([df1, df2, df3, df4, df5], axis=0)"
   ]
  },
  {
   "cell_type": "markdown",
   "metadata": {},
   "source": [
    "### 3. Select dataframe base on columns"
   ]
  },
  {
   "cell_type": "code",
   "execution_count": 5,
   "metadata": {},
   "outputs": [],
   "source": [
    "# df = df[[\"URL\", \"Headline\", \"Opening Text\", \"Hit Sentence\", \"Source\", \"Influencer\", \"Country\", \"Language\"]]"
   ]
  },
  {
   "cell_type": "markdown",
   "metadata": {},
   "source": [
    "### 4. Drop the row have `NaN` value"
   ]
  },
  {
   "cell_type": "code",
   "execution_count": 6,
   "metadata": {},
   "outputs": [],
   "source": [
    "# df.dropna(subset=[\"Opening Text\", \"Headline\", \"Hit Sentence\", \"Source\", \"Influencer\", \"Country\", \"Language\"], inplace=True)"
   ]
  },
  {
   "cell_type": "markdown",
   "metadata": {},
   "source": [
    "### 5. Drop the row have `twitter` in URL"
   ]
  },
  {
   "cell_type": "code",
   "execution_count": 7,
   "metadata": {},
   "outputs": [],
   "source": [
    "# df = df[~df[\"URL\"].str.contains(\"twitter\")]"
   ]
  },
  {
   "cell_type": "markdown",
   "metadata": {},
   "source": [
    "### 6. Drop the row is not the url link"
   ]
  },
  {
   "cell_type": "code",
   "execution_count": 8,
   "metadata": {},
   "outputs": [],
   "source": [
    "# df = df[df[\"URL\"].str.contains(\"https\")]"
   ]
  },
  {
   "cell_type": "markdown",
   "metadata": {},
   "source": [
    "### 7. Save as parquet format for reading and writing data frames efficient"
   ]
  },
  {
   "cell_type": "code",
   "execution_count": 9,
   "metadata": {},
   "outputs": [],
   "source": [
    "# df.to_excel(\"./datasets/processed/top_5_insurance_brands_june_news_and_twitter_only_processed.xlsx\", index=False)"
   ]
  },
  {
   "cell_type": "markdown",
   "metadata": {},
   "source": [
    "## Continue processing data after `url_scraper`"
   ]
  },
  {
   "cell_type": "code",
   "execution_count": 10,
   "metadata": {},
   "outputs": [],
   "source": [
    "# df1 = pd.read_parquet(\"./datasets/part0001.parquet\")\n",
    "# df2 = pd.read_parquet(\"./datasets/part0002.parquet\")\n",
    "# df3 = pd.read_parquet(\"./datasets/part0003.parquet\")\n",
    "# df4 = pd.read_parquet(\"./datasets/part0004.parquet\")\n",
    "# df  = pd.concat([df1, df2, df3, df4], axis=0)"
   ]
  },
  {
   "cell_type": "code",
   "execution_count": 11,
   "metadata": {},
   "outputs": [],
   "source": [
    "# # Easy way to get filter URL \n",
    "# df = df[df[\"HTML source\"] != \"\"]"
   ]
  },
  {
   "cell_type": "code",
   "execution_count": 12,
   "metadata": {},
   "outputs": [],
   "source": [
    "# df.head(100)"
   ]
  },
  {
   "cell_type": "code",
   "execution_count": 13,
   "metadata": {},
   "outputs": [],
   "source": [
    "# df.shape"
   ]
  },
  {
   "cell_type": "code",
   "execution_count": 14,
   "metadata": {},
   "outputs": [],
   "source": [
    "# df.to_parquet(\"./datasets/processed/dataset.parquet\", index=False)"
   ]
  },
  {
   "cell_type": "markdown",
   "metadata": {},
   "source": [
    "## Reduce data memory"
   ]
  },
  {
   "cell_type": "code",
   "execution_count": 15,
   "metadata": {},
   "outputs": [],
   "source": [
    "# df = pd.read_parquet(\"./Datasets/processed/dataset.parquet\")"
   ]
  },
  {
   "cell_type": "code",
   "execution_count": 16,
   "metadata": {},
   "outputs": [],
   "source": [
    "# df.head()"
   ]
  },
  {
   "cell_type": "code",
   "execution_count": 17,
   "metadata": {},
   "outputs": [],
   "source": [
    "# from tqdm import tqdm\n",
    "\n",
    "# def get_texts_from_html_source(html_source_text):\n",
    "#     \"\"\"\n",
    "#     Args:\n",
    "#         html_source_text: str\n",
    "#     \"\"\"\n",
    "#     texts = []\n",
    "#     for html in tqdm(html_source_text):\n",
    "#         html = bs4.BeautifulSoup(html, \"html.parser\")\n",
    "#         text = html.get_text()\n",
    "#         texts.append(text)\n",
    "#     return texts"
   ]
  },
  {
   "cell_type": "code",
   "execution_count": 18,
   "metadata": {},
   "outputs": [],
   "source": [
    "# texts = get_texts_from_html_source(df[\"HTML source\"])\n",
    "# df[\"HTML source\"] = texts"
   ]
  },
  {
   "cell_type": "code",
   "execution_count": 19,
   "metadata": {},
   "outputs": [],
   "source": [
    "# df.head()"
   ]
  },
  {
   "cell_type": "code",
   "execution_count": 20,
   "metadata": {},
   "outputs": [],
   "source": [
    "# df.dropna(subset=[\"HTML source\"], inplace=True)"
   ]
  },
  {
   "cell_type": "code",
   "execution_count": 21,
   "metadata": {},
   "outputs": [],
   "source": [
    "# df[\"HTML source\"][1]"
   ]
  },
  {
   "cell_type": "code",
   "execution_count": 22,
   "metadata": {},
   "outputs": [],
   "source": [
    "# df.to_parquet(\"./Datasets/processed/dataset_v2.parquet\", index=False)"
   ]
  },
  {
   "cell_type": "markdown",
   "metadata": {},
   "source": [
    "## Format Instruction dataset"
   ]
  },
  {
   "cell_type": "code",
   "execution_count": 23,
   "metadata": {},
   "outputs": [],
   "source": [
    "dataset = load_dataset(\"chwenjun225/top_5_insurance_brands_june_news_and_twitter_only\")[\"train\"]"
   ]
  },
  {
   "cell_type": "code",
   "execution_count": 24,
   "metadata": {},
   "outputs": [],
   "source": [
    "def format_instruction_fn(dataframe):\n",
    "\t\"\"\"\n",
    "\tPrepare data following the instruct format dataset\n",
    "\t\"\"\"\n",
    "\turls = dataframe[\"URL\"]\n",
    "\thtml_sources = dataframe[\"HTML source\"]\n",
    "\theadlines = dataframe[\"Headline\"]\n",
    "\topening_texts = dataframe[\"Opening Text\"]\n",
    "\thit_sentences = dataframe[\"Hit Sentence\"]\n",
    "\tsources = dataframe[\"Source\"]\n",
    "\tinfluencers = dataframe[\"Influencer\"]\n",
    "\tcountries = dataframe[\"Country\"]\n",
    "\tlanguages = dataframe[\"Language\"]\n",
    "\ttexts = []\n",
    "\tfor url, html_source, headline, opening_text, hit_sentence, source, influencer, country, language in zip(urls, html_sources, headlines, opening_texts, hit_sentences, sources, influencers, countries, languages):\n",
    "\t\tmy_input = html_source\n",
    "\t\tmy_output = {\n",
    "\t\t\t\"URL\": url,\n",
    "\t\t\t\"Headline\": headline, \n",
    "\t\t\t\"Opening Text\": opening_text, \n",
    "\t\t\t\"Hit Sentence\": hit_sentence, \n",
    "\t\t\t\"Source\": source,\n",
    "\t\t\t\"Influencer\": influencer, \n",
    "\t\t\t\"Country\": country,\n",
    "\t\t\t\"Language\": language \n",
    "\t\t}\n",
    "\t\ttext = {\n",
    "\t\t\t\"instruction\": my_input, \n",
    "\t\t\t\"output\": my_output\n",
    "\t\t}\n",
    "\t\ttexts.append(text)\n",
    "\treturn {\"texts\": texts}"
   ]
  },
  {
   "cell_type": "code",
   "execution_count": 25,
   "metadata": {},
   "outputs": [
    {
     "data": {
      "application/vnd.jupyter.widget-view+json": {
       "model_id": "025d726a98ae449c9db04a280a785095",
       "version_major": 2,
       "version_minor": 0
      },
      "text/plain": [
       "Map:   0%|          | 0/5434 [00:00<?, ? examples/s]"
      ]
     },
     "metadata": {},
     "output_type": "display_data"
    }
   ],
   "source": [
    "dataset = dataset.map(format_instruction_fn, batched=True)"
   ]
  },
  {
   "cell_type": "code",
   "execution_count": 26,
   "metadata": {},
   "outputs": [
    {
     "data": {
      "text/plain": [
       "{'instruction': \" Former WKU Lady Toppers star Crystal Kelly becomes Assistant Coach at Kentucky  Skip to contentNewsLivestreamsWeather24/7 WeatherSportsLatest VideosBack to SchoolSt. JudeSpanishAppsHomeElection ResultsInteractive ResultsNewsTrafficStateRegionalNationalInvestigationInternationalAM and MiddayHealthEducationCrime StoppersCrimeLivestreamsWeather24/7 WeatherRadarWeather CamsWeather App TutorialWeather SafetyWhat is a First Alert Weather DayWeather HeadlinesClosings & DelaysSportsSports ConnectionLong GameCourtsideFootball Friday NightsSports VideoNational SportsTalkin' TopsLatest VideosBack to SchoolSt. JudeTelemundo Bowling GreenWBKO NewsletterContact UsMeet the News TeamFollow UsSubmit Photo or VideoJobs with Gray TelevisionJobs with WBKOProgramming ScheduleJob WatchContestsSponsored PagesGood NewsHometown HeroJA People of ActionSOKY Happenings CalendarAppsZeam - News StreamsGray DC BureauInvestigateTVWatching Your WalletDigital MarketingPowerNationCircle CountryFormer WKU Lady Toppers star Crystal Kelly becomes Assistant Coach at KentuckyFormer WKU Lady Topper Crystal Kelly joins UK Women's Basketball coaching staffBy Kaden Gaylord-DayPublished: Jun. 30, 2023 at 5:34 PM CDTEmail This LinkShare on FacebookShare on X (formerly Twitter)Share on PinterestShare on LinkedInLexington, Ky. (WBKO) - Former WKU Lady Toppers star Crystal Kelly has been brought on the University of Kentucky Women’s Basketball staff as its new Assistant Coach, announced by Head Coach Kyra Elzy on Friday.“It is with great anticipation that we announce the hiring of Crystal Kelly,” Elzy said. “She is the total package. She takes great pride in being a product of Kentucky, and she understands the responsibility that it holds. Crystal was a talented in-state basketball player, which will benefit our program in numerous ways, but she also has had proven success in her coaching career. I have a lot of confidence in Crystal, and her contagious energy, competitive spirit and winning pedigree checks all the boxes for our program.”Kelly heads to Lexington after serving two seasons as the Associate Head Coach at Towson (2021-23). There, she helped Towson to back-to-back seasons of 20+ wins and two straight Women’s National Invitation Tournament appearances.“Returning to my home state to coach at the University of Kentucky is such a privilege and honor,” Kelly said. “Coaching alongside Coach Elzy, who has mentored me for many years, is truly a full circle moment. As I step into this new role, I’m eager to build relationships with the student-athletes, collaborate with the staff and immerse myself in the unwavering passion of Big Blue Nation.”Kelly is a native of Louisville, Kentucky, and played for Sacred Heart Academy, helping the girls basketball team to three straight Kentucky High School Athletic Association state championships (2002, 2003, 2004). While in high school, she was named the 2004 Miss Kentucky Basketball, 2004 Associated Press Player of the Year and the 2003 and 2004 Kentucky Gatorade Player of the Year. She was also named an All-America by several outlets, among receiving other honors.Elzy has known about Kelly for more than 20 years, leading the effort to sign Kelly to the WKU Women’s Basketball class of 2004. Kelly went on to have a standout career at WKU (2004-08), so much so that the Hilltoppers retired her jersey (No. 42) in 2008. Kelly rewrote the record book during her college career, finishing with a school-record 2,803 points and 1,258 rebounds. Her scoring total also stood as a Sun Belt Conference record and made her the 12th leading scorer in NCAA Division I history at the time.She still owns the school record in more than a dozen categories.During her senior season, she was named an All-American by the Associated Press, CBSSportsOnline.com and State Farm Coaches. She also earned Sun Belt Conference Player of the Year accolades that season, after averaging 22.6 points, 10.5 rebounds and leading the nation with a school-record .644 field-goal percentage. Moreover, Kelly scored a school-record 42 points in her final home game against Louisiana-Monroe, which was the same day her jersey was retired into the rafters at E.A. Diddle Arena.Following her successful college career, Kelly was drafted in the third round, as the 31st overall pick, to the Houston Comets in the 2008 WNBA Draft. She played in the league for three seasons, in addition to playing professionally in Spain, Italy and Brazil.Kelly has an extensive coaching career, which includes a couple of stops close to home.Kelly spent four seasons as an assistant coach at Bellarmine (2012-16). Everything came together in her final season in 2015-16, when the Knights went 24-4, captured their first-ever Great Lakes Valley Conference Tournament title and earned their first NCAA II Tournament berth since 2007-08. Bellarmine’s winning percentage (.857) also tied a program record that season.She then spent one season as an assistant coach at Tennessee Tech (2016-17), before spending two seasons as an assistant coach at Xavier (2017-19). While in Cincinnati, Kelly led the post players, a group that included A’riana Gray, who earned All-Big East Honorable Mention status in 2018-19. Gray led the Musketeers with 13.9 points per game and led the conference with 11.5 rebounds per game. She was the only Big East player to average a double-double on the season.Following that stretch, she returned to Tennessee Tech for an additional season (2019-20) and then to Bellarmine for an extra season (2020-21).At Kentucky, Kelly will work primarily with the post players and she will oversee recruiting.Copyright 2023 WBKO. All rights reserved.Most Read Man killed after wreck near Warren East High School in Bowling Green identified Crime Stoppers: Police looking for woman with active warrants Warren County school buses promote safety with new stop arm cameras Clinton Co. Sheriff’s Office no longer provides 24-hour service amid budget shortfallsMuhlenberg County man facing drug charges after traffic stop Trial continues for Eastern KY man charged with murder of a police officer Bowling Green Finally Has a Better Internet Option What role did Kentucky play in the Civil War?Latest NewsLynn Family Stadium to host U.S. Women’s National Soccer Team game in OctoberFormer Hilltopper Jamarion Sharp signs one-year deal with the Dallas Mavericks NCAA places UK athletics department on probation, vacates wins over violations SOKY Static brings USFA World Series title back to Bowling GreenWKU reveals new red helmetsBG East 12-year old All Star team wins Kentucky Little League State ChampionshipFormer Hilltopper Kyree King set to compete in 2024 Paris Olympics BG East wins Little League State Tournament championshipNewsWeatherSportsVideo ClipsLive StreamsLatest NewscastsMeet the News TeamAdvertise With UsJobs With WBKOSign Up for eNewsContestsProgramming ScheduleWBKO2727 Russellville RoadBowling Green, KY 42101(270) 781-1313Public Inspection Filebarbara.powell@wbko.com - (270) 467-0303Terms of ServicePrivacy PolicyEEO StatementFCC ApplicationsContact UsAdvertisingDigital MarketingClosed Captioning/Audio DescriptionAt Gray, our journalists report, write, edit and produce the news content that informs the communities we serve. Click here to learn more about our approach to artificial intelligence.A Gray Local Media Station ©  2002-2024\",\n",
       " 'output': {'Country': 'United States',\n",
       "  'Headline': 'Former WKU Lady Toppers star Crystal Kelly becomes Assistant Coach at Kentucky',\n",
       "  'Hit Sentence': '... State Farm Coaches. She also earned Sun Belt Conference Player of the Year accolades that season, after averaging 22.6 points, 10.5 ...',\n",
       "  'Influencer': 'Kaden Gaylord-Day',\n",
       "  'Language': 'English',\n",
       "  'Opening Text': \"Former Kentucky Miss Basketball Crystal Kelly has joined the UK women's basketball coaching staff. (UK Athletics) Lexington, Ky. (WBKO) - ...\",\n",
       "  'Source': 'WBKO-TV',\n",
       "  'URL': 'https://www.wbko.com/2023/06/30/former-wku-lady-toppers-star-crystal-kelly-becomes-assistant-coach-kentucky/'}}"
      ]
     },
     "execution_count": 26,
     "metadata": {},
     "output_type": "execute_result"
    }
   ],
   "source": [
    "dataset[\"texts\"][0]"
   ]
  },
  {
   "cell_type": "code",
   "execution_count": 27,
   "metadata": {},
   "outputs": [
    {
     "data": {
      "text/html": [
       "<div>\n",
       "<style scoped>\n",
       "    .dataframe tbody tr th:only-of-type {\n",
       "        vertical-align: middle;\n",
       "    }\n",
       "\n",
       "    .dataframe tbody tr th {\n",
       "        vertical-align: top;\n",
       "    }\n",
       "\n",
       "    .dataframe thead th {\n",
       "        text-align: right;\n",
       "    }\n",
       "</style>\n",
       "<table border=\"1\" class=\"dataframe\">\n",
       "  <thead>\n",
       "    <tr style=\"text-align: right;\">\n",
       "      <th></th>\n",
       "      <th>instruction</th>\n",
       "      <th>output</th>\n",
       "    </tr>\n",
       "  </thead>\n",
       "  <tbody>\n",
       "    <tr>\n",
       "      <th>0</th>\n",
       "      <td>Former WKU Lady Toppers star Crystal Kelly be...</td>\n",
       "      <td>{'Country': 'United States', 'Headline': 'Form...</td>\n",
       "    </tr>\n",
       "    <tr>\n",
       "      <th>1</th>\n",
       "      <td>...</td>\n",
       "      <td>{'Country': 'United States', 'Headline': 'Myrt...</td>\n",
       "    </tr>\n",
       "    <tr>\n",
       "      <th>2</th>\n",
       "      <td>Fire hardening hasn’t helped insurance ...</td>\n",
       "      <td>{'Country': 'United States', 'Headline': 'Fire...</td>\n",
       "    </tr>\n",
       "    <tr>\n",
       "      <th>3</th>\n",
       "      <td>How Much Is Homeowners Insurance? Average ...</td>\n",
       "      <td>{'Country': 'United States', 'Headline': 'The ...</td>\n",
       "    </tr>\n",
       "    <tr>\n",
       "      <th>4</th>\n",
       "      <td>6 Best Life Insurance Companies for Senior...</td>\n",
       "      <td>{'Country': 'United States', 'Headline': '7 Be...</td>\n",
       "    </tr>\n",
       "  </tbody>\n",
       "</table>\n",
       "</div>"
      ],
      "text/plain": [
       "                                         instruction  \\\n",
       "0   Former WKU Lady Toppers star Crystal Kelly be...   \n",
       "1                                                ...   \n",
       "2         Fire hardening hasn’t helped insurance ...   \n",
       "3      How Much Is Homeowners Insurance? Average ...   \n",
       "4      6 Best Life Insurance Companies for Senior...   \n",
       "\n",
       "                                              output  \n",
       "0  {'Country': 'United States', 'Headline': 'Form...  \n",
       "1  {'Country': 'United States', 'Headline': 'Myrt...  \n",
       "2  {'Country': 'United States', 'Headline': 'Fire...  \n",
       "3  {'Country': 'United States', 'Headline': 'The ...  \n",
       "4  {'Country': 'United States', 'Headline': '7 Be...  "
      ]
     },
     "execution_count": 27,
     "metadata": {},
     "output_type": "execute_result"
    }
   ],
   "source": [
    "# Assuming dataset[\"texts\"] is a list of tuples or lists [(input1, output1), (input2, output2), ...]\n",
    "df = pd.DataFrame(dataset[\"texts\"], columns=[\"instruction\", \"output\"])\n",
    "\n",
    "# Display the DataFrame\n",
    "df.head(5)"
   ]
  },
  {
   "cell_type": "code",
   "execution_count": 28,
   "metadata": {},
   "outputs": [],
   "source": [
    "df.to_parquet(\"./Datasets/Dataset_01/Processed/Instruction_dataset.parquet\", index=False)"
   ]
  },
  {
   "cell_type": "code",
   "execution_count": 29,
   "metadata": {},
   "outputs": [
    {
     "data": {
      "application/vnd.jupyter.widget-view+json": {
       "model_id": "9fac948def3145d18c795a4a3af63d6d",
       "version_major": 2,
       "version_minor": 0
      },
      "text/plain": [
       "Generating train split: 0 examples [00:00, ? examples/s]"
      ]
     },
     "metadata": {},
     "output_type": "display_data"
    },
    {
     "data": {
      "application/vnd.jupyter.widget-view+json": {
       "model_id": "f46697d9340c48ef922b122b2ea88ddc",
       "version_major": 2,
       "version_minor": 0
      },
      "text/plain": [
       "Uploading the dataset shards:   0%|          | 0/1 [00:00<?, ?it/s]"
      ]
     },
     "metadata": {},
     "output_type": "display_data"
    },
    {
     "data": {
      "application/vnd.jupyter.widget-view+json": {
       "model_id": "3a702273d1924af0b7e5465c86a9a9b0",
       "version_major": 2,
       "version_minor": 0
      },
      "text/plain": [
       "Creating parquet from Arrow format:   0%|          | 0/6 [00:00<?, ?ba/s]"
      ]
     },
     "metadata": {},
     "output_type": "display_data"
    },
    {
     "data": {
      "application/vnd.jupyter.widget-view+json": {
       "model_id": "59d4aa22541b4587afb8dc58e7078e04",
       "version_major": 2,
       "version_minor": 0
      },
      "text/plain": [
       "README.md:   0%|          | 0.00/2.67k [00:00<?, ?B/s]"
      ]
     },
     "metadata": {},
     "output_type": "display_data"
    },
    {
     "data": {
      "text/plain": [
       "CommitInfo(commit_url='https://huggingface.co/datasets/chwenjun225/Instruction_top_5_insurance_brands_june_news_and_twitter_only/commit/fd41fc7822d627c84a2399a665847717c30fff5c', commit_message='Upload dataset', commit_description='', oid='fd41fc7822d627c84a2399a665847717c30fff5c', pr_url=None, pr_revision=None, pr_num=None)"
      ]
     },
     "execution_count": 29,
     "metadata": {},
     "output_type": "execute_result"
    }
   ],
   "source": [
    "# Upload dataset to HugingFace\n",
    "dataset = Dataset.from_parquet(\"./Datasets/Dataset_01/Processed/Instruction_dataset.parquet\")\n",
    "dataset_dict = DatasetDict({\"train\": dataset})\n",
    "dataset_dict.push_to_hub(\"chwenjun225/Instruction_top_5_insurance_brands_june_news_and_twitter_only\")"
   ]
  },
  {
   "cell_type": "code",
   "execution_count": 30,
   "metadata": {},
   "outputs": [
    {
     "data": {
      "application/vnd.jupyter.widget-view+json": {
       "model_id": "27c986a980784d26b49ea234d0395a8d",
       "version_major": 2,
       "version_minor": 0
      },
      "text/plain": [
       "Downloading readme:   0%|          | 0.00/2.68k [00:00<?, ?B/s]"
      ]
     },
     "metadata": {},
     "output_type": "display_data"
    },
    {
     "data": {
      "application/vnd.jupyter.widget-view+json": {
       "model_id": "b9eb18c66e884e7892b6596f557965c8",
       "version_major": 2,
       "version_minor": 0
      },
      "text/plain": [
       "Downloading data:   0%|          | 0.00/20.0M [00:00<?, ?B/s]"
      ]
     },
     "metadata": {},
     "output_type": "display_data"
    },
    {
     "data": {
      "application/vnd.jupyter.widget-view+json": {
       "model_id": "be5976e63fdc4969b0ce28e73f7e48d0",
       "version_major": 2,
       "version_minor": 0
      },
      "text/plain": [
       "Generating train split:   0%|          | 0/5434 [00:00<?, ? examples/s]"
      ]
     },
     "metadata": {},
     "output_type": "display_data"
    }
   ],
   "source": [
    "dataset = load_dataset(\"chwenjun225/Instruction_top_5_insurance_brands_june_news_and_twitter_only\")[\"train\"]"
   ]
  },
  {
   "cell_type": "code",
   "execution_count": 31,
   "metadata": {},
   "outputs": [
    {
     "data": {
      "text/plain": [
       "dict_keys(['instruction', 'output'])"
      ]
     },
     "execution_count": 31,
     "metadata": {},
     "output_type": "execute_result"
    }
   ],
   "source": [
    "# dataset[0].keys()"
   ]
  },
  {
   "cell_type": "code",
   "execution_count": 34,
   "metadata": {},
   "outputs": [],
   "source": [
    "# ds = load_dataset(\"yahma/alpaca-cleaned\")['train']"
   ]
  },
  {
   "cell_type": "code",
   "execution_count": 36,
   "metadata": {},
   "outputs": [],
   "source": [
    "# PROMPT_DICT = {\n",
    "#     \"prompt_input\": (\n",
    "#         \"Below is an instruction that describes a task, paired with an input that provides further context. \"\n",
    "#         \"Write a response that appropriately completes the request.\\n\\n\"\n",
    "#         \"### Instruction:\\n{instruction}\\n\\n### Input:\\n{input}\\n\\n### Response:\"\n",
    "#     ), \n",
    "#     \"prompt_no_input\": (\n",
    "#         \"Below is an instruction that describes a task. \"\n",
    "#         \"Write a response that appropriately completes the request.\\n\\n\"\n",
    "#         \"### Instruction: \\n{instruction}\\n\\n### Response:\"\n",
    "#     ), \n",
    "# }"
   ]
  },
  {
   "cell_type": "code",
   "execution_count": 37,
   "metadata": {},
   "outputs": [
    {
     "data": {
      "text/plain": [
       "{'output': '1. Eat a balanced and nutritious diet: Make sure your meals are inclusive of a variety of fruits and vegetables, lean protein, whole grains, and healthy fats. This helps to provide your body with the essential nutrients to function at its best and can help prevent chronic diseases.\\n\\n2. Engage in regular physical activity: Exercise is crucial for maintaining strong bones, muscles, and cardiovascular health. Aim for at least 150 minutes of moderate aerobic exercise or 75 minutes of vigorous exercise each week.\\n\\n3. Get enough sleep: Getting enough quality sleep is crucial for physical and mental well-being. It helps to regulate mood, improve cognitive function, and supports healthy growth and immune function. Aim for 7-9 hours of sleep each night.',\n",
       " 'input': '',\n",
       " 'instruction': 'Give three tips for staying healthy.'}"
      ]
     },
     "execution_count": 37,
     "metadata": {},
     "output_type": "execute_result"
    }
   ],
   "source": [
    "# ann = ds[0]\n",
    "# ann"
   ]
  },
  {
   "cell_type": "code",
   "execution_count": 39,
   "metadata": {},
   "outputs": [
    {
     "data": {
      "text/plain": [
       "'Below is an instruction that describes a task. Write a response that appropriately completes the request.\\n\\n### Instruction: \\nGive three tips for staying healthy.\\n\\n### Response:'"
      ]
     },
     "execution_count": 39,
     "metadata": {},
     "output_type": "execute_result"
    }
   ],
   "source": [
    "# prompt = PROMPT_DICT[\"prompt_no_input\"].format_map(ann)\n",
    "# prompt"
   ]
  },
  {
   "cell_type": "code",
   "execution_count": null,
   "metadata": {},
   "outputs": [],
   "source": []
  },
  {
   "cell_type": "code",
   "execution_count": null,
   "metadata": {},
   "outputs": [],
   "source": []
  }
 ],
 "metadata": {
  "kernelspec": {
   "display_name": "web_env",
   "language": "python",
   "name": "python3"
  },
  "language_info": {
   "codemirror_mode": {
    "name": "ipython",
    "version": 3
   },
   "file_extension": ".py",
   "mimetype": "text/x-python",
   "name": "python",
   "nbconvert_exporter": "python",
   "pygments_lexer": "ipython3",
   "version": "3.12.4"
  }
 },
 "nbformat": 4,
 "nbformat_minor": 2
}
